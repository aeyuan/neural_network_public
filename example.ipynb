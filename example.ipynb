{
 "cells": [
  {
   "cell_type": "markdown",
   "metadata": {},
   "source": [
    "## Demo for a simple feedforward network written from scratch\n",
    "\n",
    "Alex Yuan, June 2018"
   ]
  },
  {
   "cell_type": "markdown",
   "metadata": {},
   "source": [
    "### Step 1: import external and internal modules and functions"
   ]
  },
  {
   "cell_type": "code",
   "execution_count": 1,
   "metadata": {},
   "outputs": [],
   "source": [
    "# import external modules and functions\n",
    "import numpy as np\n",
    "import matplotlib.pyplot as plt\n",
    "from sklearn.metrics import r2_score\n",
    "from sklearn.datasets import load_boston"
   ]
  },
  {
   "cell_type": "code",
   "execution_count": 2,
   "metadata": {},
   "outputs": [],
   "source": [
    "# import modules from this package\n",
    "import ff_network as net\n",
    "import fully_connected_layer as fcl\n",
    "import activation_functions as afxn"
   ]
  },
  {
   "cell_type": "markdown",
   "metadata": {},
   "source": [
    "### Step 2: import data and randomly divide into training, validation, and test sets"
   ]
  },
  {
   "cell_type": "code",
   "execution_count": 3,
   "metadata": {},
   "outputs": [
    {
     "name": "stdout",
     "output_type": "stream",
     "text": [
      "There are 506 samples in total\n"
     ]
    }
   ],
   "source": [
    "boston = load_boston()\n",
    "X = boston.data # features\n",
    "Y = boston.target # response\n",
    "num_samples = len(Y)\n",
    "\n",
    "msg = \"There are %d samples in total\" % (num_samples)\n",
    "print(msg)"
   ]
  },
  {
   "cell_type": "markdown",
   "metadata": {},
   "source": [
    "Let's divide the data into:\n",
    " * 400 training samples\n",
    " * 53 validation samples\n",
    " * 53 test samples"
   ]
  },
  {
   "cell_type": "code",
   "execution_count": 4,
   "metadata": {},
   "outputs": [],
   "source": [
    "indices = [i for i in range(num_samples)]\n",
    "np.random.shuffle(indices)\n",
    "train_idx = indices[:400]\n",
    "valid_idx = indices[400:453]\n",
    "test_idx = indices[453:]"
   ]
  },
  {
   "cell_type": "code",
   "execution_count": 5,
   "metadata": {},
   "outputs": [],
   "source": [
    "X_train = X[train_idx]\n",
    "X_valid = X[valid_idx]\n",
    "X_test = X[test_idx]\n",
    "\n",
    "Y_train = Y[train_idx]\n",
    "Y_valid = Y[valid_idx]\n",
    "Y_test = Y[test_idx]"
   ]
  },
  {
   "cell_type": "markdown",
   "metadata": {},
   "source": [
    "### Step 3: Build the network\n",
    "\n",
    "Here, I'm using a Nesterov momentum optimizer with a learning rate of 0.001 and I'm limiting the absolute value of the gradient to be no more than 2. I'm using leaky relu in the activations.\n",
    "\n",
    "The architecture is:\n",
    "\n",
    "13-dim input --> layer1 --> 10-dim --> layer2 --> 5-dim --> layer3 --> 1-dim output\n",
    "\n",
    "Check out the docstrings for ff_network.ff_network.\\__init__ and fully_connected_layer.fully_connected_layer.\\__init__ to see all of the available options!"
   ]
  },
  {
   "cell_type": "code",
   "execution_count": 6,
   "metadata": {},
   "outputs": [],
   "source": [
    "# Initialize a network object\n",
    "my_net = net.ff_newtork(learn_rate = .001, optimizer=\"Nesterov\", grad_clip=2)\n",
    "# Define the layers\n",
    "layer1 = fcl.fully_connected_layer(13,10, activation_fxn=afxn.leaky_relu,\n",
    "                                   afxn_prime=afxn.leaky_relu_prime)\n",
    "layer2 = fcl.fully_connected_layer(10,5, activation_fxn=afxn.leaky_relu,\n",
    "                                   afxn_prime=afxn.leaky_relu_prime)\n",
    "layer3 = fcl.fully_connected_layer(5,1, activation_fxn=afxn.leaky_relu,\n",
    "                                   afxn_prime=afxn.leaky_relu_prime)\n",
    "# Add the layers to the network\n",
    "my_net.add_layer(layer1)\n",
    "my_net.add_layer(layer2)\n",
    "my_net.add_layer(layer3)"
   ]
  },
  {
   "cell_type": "markdown",
   "metadata": {},
   "source": [
    "### Step 4: Train the network"
   ]
  },
  {
   "cell_type": "code",
   "execution_count": 7,
   "metadata": {},
   "outputs": [],
   "source": [
    "# User must choose batch size and number of epochs\n",
    "batch_size = 20\n",
    "num_epochs = 100\n",
    "\n",
    "# Train the model!\n",
    "train_loss = []\n",
    "valid_loss = []\n",
    "batches_per_epoch = int(len(X_train) / batch_size)\n",
    "num_batches = batches_per_epoch * num_epochs\n",
    "for i in range(num_batches):\n",
    "    # prepare training batch\n",
    "    rnd_indices = np.random.choice(a=len(X_train),\n",
    "                                   size=batch_size, replace=False)\n",
    "    batch_X = X_train[rnd_indices].T\n",
    "    batch_Y = np.expand_dims(Y_train[rnd_indices],-1).T\n",
    "    # prepare validation batch\n",
    "    vld_indices = np.random.choice(a=len(X_valid),\n",
    "                                   size=batch_size, replace=False)\n",
    "    vld_X = X_valid[vld_indices].T\n",
    "    vld_Y = np.expand_dims(Y_valid[vld_indices],-1).T\n",
    "    # get validation loss\n",
    "    yhat = my_net.predict(vld_X)\n",
    "    valid_loss.append(np.mean(my_net.loss_fxn(vld_Y, yhat)))\n",
    "    # train on training batch and get train loss\n",
    "    train_loss.append(my_net.train(batch_X,batch_Y))"
   ]
  },
  {
   "cell_type": "markdown",
   "metadata": {},
   "source": [
    "### Step 4.5: Look at training and validation loss"
   ]
  },
  {
   "cell_type": "code",
   "execution_count": 8,
   "metadata": {},
   "outputs": [
    {
     "data": {
      "image/png": "[encoded data removed]",
      "text/plain": [
       "<Figure size 432x288 with 1 Axes>"
      ]
     },
     "metadata": {},
     "output_type": "display_data"
    }
   ],
   "source": [
    "def x_grid(A):\n",
    "    return [x for x in range(len(A))]\n",
    "\n",
    "epoch_inds = [i for i in range(0, len(valid_loss), batches_per_epoch)]\n",
    "\n",
    "plt.plot(x_grid(np.array(valid_loss)[epoch_inds]), np.array(valid_loss)[epoch_inds])\n",
    "plt.plot(x_grid(np.array(train_loss)[epoch_inds]), np.array(train_loss)[epoch_inds])\n",
    "plt.xlabel(\"epoch\")\n",
    "plt.ylabel(\"MSE\")\n",
    "plt.legend([\"validation loss\", \"train loss\"])\n",
    "plt.show()"
   ]
  },
  {
   "cell_type": "markdown",
   "metadata": {},
   "source": [
    "It looks like our model from epoch 100 performs as well as any model we would get from early stopping, so to keep things simple let's just use this model and proceed to...\n",
    "\n",
    "### Step 5: Predict on test data"
   ]
  },
  {
   "cell_type": "code",
   "execution_count": 9,
   "metadata": {},
   "outputs": [],
   "source": [
    "Yhat_test = my_net.predict(X_test.T)"
   ]
  },
  {
   "cell_type": "code",
   "execution_count": 10,
   "metadata": {},
   "outputs": [
    {
     "name": "stdout",
     "output_type": "stream",
     "text": [
      "r-squared: 0.58\n"
     ]
    }
   ],
   "source": [
    "rsq = r2_score(Y_test,Yhat_test.flatten())\n",
    "msg = \"r-squared: %.2f\" % rsq\n",
    "print(msg)"
   ]
  },
  {
   "cell_type": "code",
   "execution_count": 11,
   "metadata": {},
   "outputs": [
    {
     "data": {
      "image/png": "[encoded data removed]",
      "text/plain": [
       "<Figure size 432x288 with 1 Axes>"
      ]
     },
     "metadata": {},
     "output_type": "display_data"
    }
   ],
   "source": [
    "plt.scatter(Y_test,Yhat_test.flatten())\n",
    "plt.title(\"Predictions on test data\")\n",
    "plt.xlabel(\"true $Y$\")\n",
    "plt.ylabel(\"predicted $Y$\")\n",
    "plt.xlim([0,52])\n",
    "plt.ylim([0,52])\n",
    "plt.show()"
   ]
  },
  {
   "cell_type": "markdown",
   "metadata": {},
   "source": [
    "### Beware! Test performance is sensitive to how the data are partitioned into training, validation, and test sets. To get a better sense of performance, you should use cross-validation."
   ]
  },
  {
   "cell_type": "code",
   "execution_count": null,
   "metadata": {},
   "outputs": [],
   "source": []
  }
 ],
 "metadata": {
  "kernelspec": {
   "display_name": "Python 3",
   "language": "python",
   "name": "python3"
  },
  "language_info": {
   "codemirror_mode": {
    "name": "ipython",
    "version": 3
   },
   "file_extension": ".py",
   "mimetype": "text/x-python",
   "name": "python",
   "nbconvert_exporter": "python",
   "pygments_lexer": "ipython3",
   "version": "3.6.5"
  }
 },
 "nbformat": 4,
 "nbformat_minor": 2
}
